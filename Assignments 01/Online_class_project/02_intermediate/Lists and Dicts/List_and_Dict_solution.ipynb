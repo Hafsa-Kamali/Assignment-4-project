{
  "nbformat": 4,
  "nbformat_minor": 0,
  "metadata": {
    "colab": {
      "provenance": []
    },
    "kernelspec": {
      "name": "python3",
      "display_name": "Python 3"
    },
    "language_info": {
      "name": "python"
    }
  },
  "cells": [
    {
      "cell_type": "markdown",
      "source": [
        "#**Problem Statement**\n",
        "#**Problem #1: List Practice**\n",
        "\n",
        "Now practice writing code with lists! Implement the functionality described in the comments below.\n",
        "\n",
        "def main(): # Create a list called fruit_list that contains the following fruits: # 'apple', 'banana', 'orange', 'grape', 'pineapple'.\n",
        "#**Problem #2: Index Game**\n",
        "\n",
        "As a warmup, read this code and play the game a few times. Use this mental model of the list:\n",
        "#**Objective:**\n",
        "\n",
        "Create a Python program that helps you practice accessing and manipulating elements in a list. This exercise will help you get comfortable with indexing, slicing, and modifying list elements.\n",
        "Instructions:\n",
        "Initialize a List:\n",
        "\n",
        "Create a list with at least 5 different elements. They can be numbers, strings, or a mix of both.\n",
        "Accessing Elements:\n",
        "\n",
        "Write a function that:\n",
        "\n",
        "   * Accepts a list and an index as inputs.\n",
        "   * Returns the element at the specified index.\n",
        "   * If the index is out of range, return an appropriate message.\n",
        "\n",
        "Modifying Elements:\n",
        "\n",
        "Write a function that:\n",
        "\n",
        "   * Accepts a list, an index, and a new value as inputs.\n",
        "   * Replaces the element at the specified index with the new value.\n",
        "   * If the index is out of range, return an appropriate message.\n",
        "\n",
        "Slicing the List:\n",
        "\n",
        "Write a function that:\n",
        "\n",
        "   * Accepts a list, a start index, and an end index as inputs.\n",
        "   * Returns a new list containing the elements from the start index up to (but not including) the end index.\n",
        "   * Handles cases where the indices are out of range.\n",
        "\n",
        "Game Interaction:\n",
        "\n",
        "Create a simple text-based game that:\n",
        "\n",
        "  * Prompts the user to select an operation (access, modify, slice).\n",
        "   * Asks for the necessary inputs (index, new value, etc.).\n",
        "   * Displays the result and the updated list.\n",
        "\n",
        "\n"
      ],
      "metadata": {
        "id": "QTu1UZ0tHOt-"
      }
    },
    {
      "cell_type": "code",
      "source": [
        "def access_element(lst, index):\n",
        "    try:\n",
        "        return lst[index]\n",
        "    except IndexError:\n",
        "        return \"Index out of range.\"\n",
        "\n",
        "def modify_element(lst, index, new_value):\n",
        "    try:\n",
        "        lst[index] = new_value\n",
        "        return lst\n",
        "    except IndexError:\n",
        "        return \"Index out of range.\"\n",
        "\n",
        "def slice_list(lst, start, end):\n",
        "    try:\n",
        "        return lst[start:end]\n",
        "    except IndexError:\n",
        "        return \"Invalid indices.\"\n",
        "\n",
        "def index_game():\n",
        "    lst = [1, 2, 3, 4, 5]  # Example list\n",
        "    print(\"Current list:\", lst)\n",
        "    print(\"Choose an operation: access, modify, slice\")\n",
        "    operation = input(\"Enter operation: \")\n",
        "\n",
        "    if operation == \"access\":\n",
        "        index = int(input(\"Enter index to access: \"))\n",
        "        print(access_element(lst, index))\n",
        "    elif operation == \"modify\":\n",
        "        index = int(input(\"Enter index to modify: \"))\n",
        "        new_value = input(\"Enter new value: \")\n",
        "        print(modify_element(lst, index, new_value))\n",
        "    elif operation == \"slice\":\n",
        "        start = int(input(\"Enter start index: \"))\n",
        "        end = int(input(\"Enter end index: \"))\n",
        "        print(slice_list(lst, start, end))\n",
        "    else:\n",
        "        print(\"Invalid operation.\")\n",
        "\n",
        "index_game()\n"
      ],
      "metadata": {
        "colab": {
          "base_uri": "https://localhost:8080/"
        },
        "id": "1sp-HH2Vc7zi",
        "outputId": "d36fb9db-ccec-4a9c-97b8-6e4ce033d589"
      },
      "execution_count": 8,
      "outputs": [
        {
          "output_type": "stream",
          "name": "stdout",
          "text": [
            "Current list: [1, 2, 3, 4, 5]\n",
            "Choose an operation: access, modify, slice\n",
            "Enter operation: slice\n",
            "Enter start index: 2\n",
            "Enter end index: 5\n",
            "[3, 4, 5]\n"
          ]
        }
      ]
    }
  ]
}