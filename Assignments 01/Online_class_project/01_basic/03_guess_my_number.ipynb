{
  "nbformat": 4,
  "nbformat_minor": 0,
  "metadata": {
    "colab": {
      "provenance": []
    },
    "kernelspec": {
      "name": "python3",
      "display_name": "Python 3"
    },
    "language_info": {
      "name": "python"
    }
  },
  "cells": [
    {
      "cell_type": "markdown",
      "source": [
        "#**Problem Statement**\n",
        "Guess My Number\n",
        "\n",
        "I am thinking of a number between 0 and 99... Enter a guess: 50 Your guess is too high\n",
        "\n",
        "Enter a new number: 25 Your guess is too low\n",
        "\n",
        "Enter a new number: 40 Your guess is too low\n",
        "\n",
        "Enter a new number: 45 Your guess is too low\n",
        "\n",
        "Enter a new number: 48 Congrats! The number was: 48\n",
        "\n"
      ],
      "metadata": {
        "id": "QTu1UZ0tHOt-"
      }
    },
    {
      "cell_type": "code",
      "source": [
        "import random\n",
        "\n",
        "def main():\n",
        "    # Generate the secret number at random!\n",
        "    secret_number: int = random.randint(1, 99)\n",
        "\n",
        "    print(\"I am thinking of a number between 1 and 99...\")\n",
        "\n",
        "    # Get user's guess\n",
        "    guess = int(input(\"Enter a guess: \"))\n",
        "    # True if guess is not equal to secret number\n",
        "    while guess != secret_number:\n",
        "        if guess < secret_number:  # If-statement is True if guess is less than secret number\n",
        "            print(\"Your guess is too low\")\n",
        "        else:\n",
        "            print(\"Your guess is too high\")\n",
        "\n",
        "        print() # Print an empty line to tidy up the console for new guesses\n",
        "        guess: int = int(input(\"Enter a new guess: \"))  # Get a new guess from the user\n",
        "\n",
        "    print(\"Congrats! The number was: \" + str(secret_number))\n",
        "\n",
        "if __name__ == '__main__':\n",
        "    main()\n"
      ],
      "metadata": {
        "colab": {
          "base_uri": "https://localhost:8080/"
        },
        "id": "lpHFIgez0OBX",
        "outputId": "01afacb8-e1a9-4770-c2f2-ae93f54c7983"
      },
      "execution_count": 3,
      "outputs": [
        {
          "output_type": "stream",
          "name": "stdout",
          "text": [
            "I am thinking of a number between 1 and 99...\n",
            "Enter a guess: 54\n",
            "Your guess is too high\n",
            "\n",
            "Enter a new guess: 36\n",
            "Your guess is too high\n",
            "\n",
            "Enter a new guess: 27\n",
            "Your guess is too high\n",
            "\n",
            "Enter a new guess: 13\n",
            "Your guess is too low\n",
            "\n",
            "Enter a new guess: 15\n",
            "Your guess is too low\n",
            "\n",
            "Enter a new guess: 20\n",
            "Your guess is too low\n",
            "\n",
            "Enter a new guess: 23\n",
            "Your guess is too high\n",
            "\n",
            "Enter a new guess: 22\n",
            "Congrats! The number was: 22\n"
          ]
        }
      ]
    }
  ]
}