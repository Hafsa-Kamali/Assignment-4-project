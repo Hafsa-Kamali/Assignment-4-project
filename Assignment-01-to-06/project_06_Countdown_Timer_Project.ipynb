{
  "nbformat": 4,
  "nbformat_minor": 0,
  "metadata": {
    "colab": {
      "provenance": []
    },
    "kernelspec": {
      "name": "python3",
      "display_name": "Python 3"
    },
    "language_info": {
      "name": "python"
    }
  },
  "cells": [
    {
      "cell_type": "markdown",
      "source": [
        "#**Countdown Timer Project**"
      ],
      "metadata": {
        "id": "R8lsvB-pCcEY"
      }
    },
    {
      "cell_type": "code",
      "source": [
        "import time\n",
        "import os\n",
        "import threading\n",
        "from playsound import playsound\n",
        "\n",
        "class CountdownTimer:\n",
        "    def __init__(self, hours, minutes, seconds):\n",
        "        self.total_seconds = hours * 3600 + minutes * 60 + seconds\n",
        "        self.remaining_time = self.total_seconds\n",
        "        self.is_paused = False\n",
        "        self.is_running = False\n",
        "\n",
        "    def start(self):\n",
        "        self.is_running = True\n",
        "        while self.remaining_time > 0 and self.is_running:\n",
        "            if not self.is_paused:\n",
        "                self.display_time()\n",
        "                time.sleep(1)\n",
        "                self.remaining_time -= 1\n",
        "            else:\n",
        "                time.sleep(0.1)\n",
        "        if self.remaining_time <= 0:\n",
        "            self.play_alarm()\n",
        "            print(\"Time's up!\")\n",
        "\n",
        "    def pause(self):\n",
        "        self.is_paused = True\n",
        "\n",
        "    def resume(self):\n",
        "        self.is_paused = False\n",
        "\n",
        "    def reset(self):\n",
        "        self.remaining_time = self.total_seconds\n",
        "        self.is_paused = False\n",
        "        self.is_running = False\n",
        "\n",
        "    def display_time(self):\n",
        "        hours, remainder = divmod(self.remaining_time, 3600)\n",
        "        minutes, seconds = divmod(remainder, 60)\n",
        "        time_format = f\"{hours:02}:{minutes:02}:{seconds:02}\"\n",
        "        print(f\"Time Left: {time_format}\", end=\"\\r\")\n",
        "\n",
        "    def play_alarm(self):\n",
        "        try:\n",
        "            playsound(\"alarm.mp3\")  # Make sure you have an alarm.mp3 file in the same directory\n",
        "        except Exception as e:\n",
        "            print(f\"Error playing sound: {e}\")\n",
        "\n",
        "def main():\n",
        "    print(\"Welcome to the Amazing Countdown Timer!\")\n",
        "    hours = int(input(\"Enter hours: \"))\n",
        "    minutes = int(input(\"Enter minutes: \"))\n",
        "    seconds = int(input(\"Enter seconds: \"))\n",
        "\n",
        "    timer = CountdownTimer(hours, minutes, seconds)\n",
        "\n",
        "    # Start the countdown in a separate thread\n",
        "    countdown_thread = threading.Thread(target=timer.start)\n",
        "    countdown_thread.start()\n",
        "\n",
        "    while timer.is_running:\n",
        "        command = input(\"\\nEnter command (pause/resume/reset/quit): \").strip().lower()\n",
        "        if command == \"pause\":\n",
        "            timer.pause()\n",
        "        elif command == \"resume\":\n",
        "            timer.resume()\n",
        "        elif command == \"reset\":\n",
        "            timer.reset()\n",
        "            countdown_thread.join()  # Wait for the thread to finish\n",
        "            countdown_thread = threading.Thread(target=timer.start)\n",
        "            countdown_thread.start()\n",
        "        elif command == \"quit\":\n",
        "            timer.is_running = False\n",
        "            break\n",
        "        else:\n",
        "            print(\"Invalid command. Please try again.\")\n",
        "\n",
        "    countdown_thread.join()\n",
        "    print(\"Countdown timer has ended.\")\n",
        "\n",
        "if __name__ == \"__main__\":\n",
        "    main()"
      ],
      "metadata": {
        "colab": {
          "base_uri": "https://localhost:8080/"
        },
        "id": "bXcIpkjPChsf",
        "outputId": "dff7c26f-031f-40e5-c583-1f7072a90cca"
      },
      "execution_count": null,
      "outputs": [
        {
          "output_type": "stream",
          "name": "stdout",
          "text": [
            "Welcome to the Amazing Countdown Timer!\n",
            "Enter hours: 4\n",
            "Enter minutes: 5\n",
            "Enter seconds: 6\n",
            "\n",
            "Enter command (pause/resume/reset/quit): resume\n",
            "\n",
            "Enter command (pause/resume/reset/quit): reset\n",
            "\n",
            "Enter command (pause/resume/reset/quit): pause\n",
            "\n",
            "Enter command (pause/resume/reset/quit): quit\n",
            "Countdown timer has ended.\n"
          ]
        }
      ]
    }
  ]
}