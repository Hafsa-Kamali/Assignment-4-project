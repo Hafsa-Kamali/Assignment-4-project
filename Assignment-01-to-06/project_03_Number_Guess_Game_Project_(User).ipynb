{
  "nbformat": 4,
  "nbformat_minor": 0,
  "metadata": {
    "colab": {
      "provenance": []
    },
    "kernelspec": {
      "name": "python3",
      "display_name": "Python 3"
    },
    "language_info": {
      "name": "python"
    }
  },
  "cells": [
    {
      "cell_type": "markdown",
      "source": [
        "#**Number Guess Game Project (User)**"
      ],
      "metadata": {
        "id": "O0oH6gfX7za0"
      }
    },
    {
      "cell_type": "code",
      "source": [
        "!pip install colorama\n",
        "import random\n",
        "from colorama import Fore, Style, init\n",
        "\n",
        "# Initialize colorama for colored text\n",
        "init(autoreset=True)\n",
        "\n",
        "def display_welcome():\n",
        "    \"\"\"Display the welcome message and instructions.\"\"\"\n",
        "    print(Fore.CYAN + Style.BRIGHT + \"\\nWelcome to the Number Guessing Game (User Edition)!\")\n",
        "    print(Fore.YELLOW + \"Think of a number, and the computer will try to guess it.\\n\")\n",
        "\n",
        "def get_range():\n",
        "    \"\"\"Get the range of numbers from the user.\"\"\"\n",
        "    while True:\n",
        "        try:\n",
        "            low = int(input(Fore.CYAN + \"Enter the lower bound of the range: \"))\n",
        "            high = int(input(Fore.CYAN + \"Enter the upper bound of the range: \"))\n",
        "            if low < high:\n",
        "                return low, high\n",
        "            print(Fore.RED + \"Invalid range. The upper bound must be greater than the lower bound.\")\n",
        "        except ValueError:\n",
        "            print(Fore.RED + \"Invalid input. Please enter numbers only.\")\n",
        "\n",
        "def get_feedback(guess):\n",
        "    \"\"\"Get feedback from the user about the computer's guess.\"\"\"\n",
        "    while True:\n",
        "        feedback = input(Fore.YELLOW + f\"Is {guess} too high (H), too low (L), or correct (C)? \").strip().upper()\n",
        "        if feedback in [\"H\", \"L\", \"C\"]:\n",
        "            return feedback\n",
        "        print(Fore.RED + \"Invalid input. Please enter H, L, or C.\")\n",
        "\n",
        "def computer_guess(low, high):\n",
        "    \"\"\"Computer guesses the number using a binary search algorithm.\"\"\"\n",
        "    attempts = 0\n",
        "    print(Fore.GREEN + \"\\nThe computer is now guessing your number...\")\n",
        "\n",
        "    while low <= high:\n",
        "        attempts += 1\n",
        "        guess = (low + high) // 2  # Binary search midpoint\n",
        "        feedback = get_feedback(guess)\n",
        "\n",
        "        if feedback == \"C\":\n",
        "            print(Fore.GREEN + Style.BRIGHT + f\"\\nThe computer guessed your number in {attempts} attempts!\")\n",
        "            return attempts\n",
        "        elif feedback == \"H\":\n",
        "            high = guess - 1  # Adjust the upper bound\n",
        "        else:\n",
        "            low = guess + 1  # Adjust the lower bound\n",
        "\n",
        "    print(Fore.RED + \"Something went wrong. Did you provide the correct feedback?\")\n",
        "    return None\n",
        "\n",
        "def play_game():\n",
        "    \"\"\"Play one round of the Number Guessing Game (User Edition).\"\"\"\n",
        "    low, high = get_range()\n",
        "    print(Fore.MAGENTA + f\"\\nThink of a number between {low} and {high}. The computer will try to guess it!\")\n",
        "\n",
        "    attempts = computer_guess(low, high)\n",
        "    if attempts:\n",
        "        print(Fore.CYAN + f\"The computer took {attempts} attempts to guess your number.\")\n",
        "\n",
        "def main():\n",
        "    \"\"\"Main function to run the game.\"\"\"\n",
        "    display_welcome()\n",
        "\n",
        "    while True:\n",
        "        play_game()\n",
        "        play_again = input(Fore.YELLOW + \"\\nDo you want to play again? (yes/no): \").strip().lower()\n",
        "        if play_again != \"yes\":\n",
        "            print(Fore.MAGENTA + \"\\nThanks for playing! Goodbye!\")\n",
        "            break\n",
        "\n",
        "# Run the game\n",
        "if __name__ == \"__main__\":\n",
        "    main()"
      ],
      "metadata": {
        "colab": {
          "base_uri": "https://localhost:8080/"
        },
        "id": "-fZygdLK8Avl",
        "outputId": "a5008a46-5293-44fb-84bf-fb520e7cceca"
      },
      "execution_count": null,
      "outputs": [
        {
          "output_type": "stream",
          "name": "stdout",
          "text": [
            "Collecting colorama\n",
            "  Downloading colorama-0.4.6-py2.py3-none-any.whl.metadata (17 kB)\n",
            "Downloading colorama-0.4.6-py2.py3-none-any.whl (25 kB)\n",
            "Installing collected packages: colorama\n",
            "Successfully installed colorama-0.4.6\n",
            "\n",
            "Welcome to the Number Guessing Game (User Edition)!\n",
            "Think of a number, and the computer will try to guess it.\n",
            "\n",
            "\u001b[36mEnter the lower bound of the range: 67\n",
            "\u001b[36mEnter the upper bound of the range: 89\n",
            "\n",
            "Think of a number between 67 and 89. The computer will try to guess it!\n",
            "\n",
            "The computer is now guessing your number...\n",
            "\u001b[33mIs 78 too high (H), too low (L), or correct (C)? l\n",
            "\u001b[33mIs 84 too high (H), too low (L), or correct (C)? h\n",
            "\u001b[33mIs 81 too high (H), too low (L), or correct (C)? l\n",
            "\u001b[33mIs 82 too high (H), too low (L), or correct (C)? c\n",
            "\n",
            "The computer guessed your number in 4 attempts!\n",
            "The computer took 4 attempts to guess your number.\n",
            "\u001b[33m\n",
            "Do you want to play again? (yes/no): no\n",
            "\n",
            "Thanks for playing! Goodbye!\n"
          ]
        }
      ]
    }
  ]
}