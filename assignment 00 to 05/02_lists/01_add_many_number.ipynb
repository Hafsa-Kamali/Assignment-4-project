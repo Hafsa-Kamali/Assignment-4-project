{
  "nbformat": 4,
  "nbformat_minor": 0,
  "metadata": {
    "colab": {
      "provenance": []
    },
    "kernelspec": {
      "name": "python3",
      "display_name": "Python 3"
    },
    "language_info": {
      "name": "python"
    }
  },
  "cells": [
    {
      "cell_type": "markdown",
      "source": [
        "#**Problem Statement**\n",
        "Write a function that takes a list of numbers and returns the sum of those numbers."
      ],
      "metadata": {
        "id": "74ewueWc4OMG"
      }
    },
    {
      "cell_type": "code",
      "execution_count": 1,
      "metadata": {
        "colab": {
          "base_uri": "https://localhost:8080/"
        },
        "id": "GsH_2xdz4Ay0",
        "outputId": "a217b204-cf15-4608-e279-38ae2ab1301b"
      },
      "outputs": [
        {
          "output_type": "stream",
          "name": "stdout",
          "text": [
            "The sum of the numbers is: 15\n"
          ]
        }
      ],
      "source": [
        "def sum_of_numbers(numbers):\n",
        "    \"\"\"\n",
        "    This function takes a list of numbers and returns the sum of those numbers.\n",
        "\n",
        "    :param numbers: List of numbers (integers or floats)\n",
        "    :return: Sum of the numbers in the list\n",
        "    \"\"\"\n",
        "    total_sum = 0\n",
        "    for number in numbers:\n",
        "        total_sum += number\n",
        "    return total_sum\n",
        "\n",
        "def main():\n",
        "    # Example list of numbers\n",
        "    numbers = [1, 2, 3, 4, 5]\n",
        "\n",
        "    # Call the sum_of_numbers function and store the result\n",
        "    result = sum_of_numbers(numbers)\n",
        "\n",
        "    # Print the result\n",
        "    print(f\"The sum of the numbers is: {result}\")\n",
        "\n",
        "# This ensures that the main function is called only when the script is run directly\n",
        "if __name__ == \"__main__\":\n",
        "    main()"
      ]
    }
  ]
}