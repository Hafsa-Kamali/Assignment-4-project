{
  "nbformat": 4,
  "nbformat_minor": 0,
  "metadata": {
    "colab": {
      "provenance": []
    },
    "kernelspec": {
      "name": "python3",
      "display_name": "Python 3"
    },
    "language_info": {
      "name": "python"
    }
  },
  "cells": [
    {
      "cell_type": "markdown",
      "source": [
        "#**Problem Statement**\n",
        "Write a program which continuously asks the user to enter values which are added one by one into a list. When the user presses enter without typing anything, print the list.\n",
        "\n",
        "Here's a sample run (user input is in blue):\n",
        "\n",
        "Enter a value: 1 Enter a value: 2 Enter a value: 3 Enter a value: Here's the list: ['1', '2', '3']"
      ],
      "metadata": {
        "id": "74ewueWc4OMG"
      }
    },
    {
      "cell_type": "code",
      "source": [
        "def main():\n",
        "    lst = []  # Make an empty list to store things in\n",
        "\n",
        "    val = input(\"Enter a value: \")  # Get an initial value\n",
        "    while val:  # While the user input isn't an empty value\n",
        "        lst.append(val) # Add val to list\n",
        "        val = input(\"Enter a value: \")  # Get the next value to add\n",
        "\n",
        "    print(\"Here's the list:\", lst)\n",
        "\n",
        "\n",
        "# There is no need to edit code beyond this point\n",
        "\n",
        "if __name__ == '__main__':\n",
        "    main()"
      ],
      "metadata": {
        "colab": {
          "base_uri": "https://localhost:8080/"
        },
        "id": "BqTE5RJq9FsD",
        "outputId": "cb31d828-0e60-4bf0-c5f0-1463e07a6a4c"
      },
      "execution_count": 22,
      "outputs": [
        {
          "output_type": "stream",
          "name": "stdout",
          "text": [
            "Enter a value: Hafsa\n",
            "Enter a value: chocolates\n",
            "Enter a value: python \n",
            "Enter a value: Ai developer\n",
            "Enter a value: \n",
            "Here's the list: ['Hafsa', 'chocolates', 'python ', 'Ai developer']\n"
          ]
        }
      ]
    }
  ]
}