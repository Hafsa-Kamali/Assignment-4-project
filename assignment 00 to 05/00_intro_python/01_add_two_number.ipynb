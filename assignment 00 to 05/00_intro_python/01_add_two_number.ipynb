{
  "nbformat": 4,
  "nbformat_minor": 0,
  "metadata": {
    "colab": {
      "provenance": []
    },
    "kernelspec": {
      "name": "python3",
      "display_name": "Python 3"
    },
    "language_info": {
      "name": "python"
    }
  },
  "cells": [
    {
      "cell_type": "markdown",
      "source": [
        "\n",
        "#**Problem Statement**\n",
        "\n",
        "Write a Python program that takes two integer inputs from the user and calculates their sum. The program should perform the following tasks:\n",
        "\n",
        "    Prompt the user to enter the first number.\n",
        "\n",
        "    Read the input and convert it to an integer.\n",
        "\n",
        "    Prompt the user to enter the second number.\n",
        "\n",
        "    Read the input and convert it to an integer.\n",
        "\n",
        "    Calculate the sum of the two numbers.\n",
        "\n",
        "    Print the total sum with an appropriate message.\n",
        "\n",
        "The provided solution demonstrates a working implementation of this problem, where the main() function guides the user through the process of entering two numbers and displays their sum."
      ],
      "metadata": {
        "id": "J-q3itAf7dvO"
      }
    },
    {
      "cell_type": "code",
      "execution_count": null,
      "metadata": {
        "id": "C9Y3d10F7dGY"
      },
      "outputs": [],
      "source": [
        "def main():\n",
        "  print(\"Welcome to the Sum Calculator!\")\n",
        "  num1=int(input(\"Enter your first number: \"))\n",
        "  num2=int(input(\"Enter your second number: \"))\n",
        "\n",
        "  total=num1+num2 #calculate the sum\n",
        "\n",
        "  print(f\"the sum of {num1} and {num2} is {total}\")\n",
        "\n",
        "if __name__ == \"__main__\":\n",
        "  main()"
      ]
    }
  ]
}