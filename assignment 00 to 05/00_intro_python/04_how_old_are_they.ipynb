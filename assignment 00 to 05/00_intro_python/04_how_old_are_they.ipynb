{
  "nbformat": 4,
  "nbformat_minor": 0,
  "metadata": {
    "colab": {
      "provenance": []
    },
    "kernelspec": {
      "name": "python3",
      "display_name": "Python 3"
    },
    "language_info": {
      "name": "python"
    }
  },
  "cells": [
    {
      "cell_type": "markdown",
      "source": [
        "#**Problem Statement**\n",
        "\n",
        "Write a program to solve this age-related riddle!\n",
        "\n",
        "Anton, Beth, Chen, Drew, and Ethan are all friends. Their ages are as follows:\n",
        "\n",
        "Anton is 21 years old.\n",
        "\n",
        "Beth is 6 years older than Anton.\n",
        "\n",
        "Chen is 20 years older than Beth.\n",
        "\n",
        "Drew is as old as Chen's age plus Anton's age.\n",
        "\n",
        "Ethan is the same age as Chen.\n",
        "\n",
        "Your code should store each person's age to a variable and print their names and ages at the end. '\n",
        "The autograder is sensitive to capitalization and punctuation, be careful! Your solution should look like this (the below numbers are made up -- your solution should have the correct values!):"
      ],
      "metadata": {
        "id": "BJRO81MnP14U"
      }
    },
    {
      "cell_type": "code",
      "execution_count": null,
      "metadata": {
        "colab": {
          "base_uri": "https://localhost:8080/"
        },
        "id": "gn4twOpsv6b3",
        "outputId": "826f8693-1689-4e40-f1e4-1c4e0536c74a"
      },
      "outputs": [
        {
          "output_type": "stream",
          "name": "stdout",
          "text": [
            "Anton is 21 years old.\n",
            "Beth is 27 years old.\n",
            "Chen is 47years old.\n",
            "Drew is 68 years old.\n",
            "Ethan is 47 years old.\n"
          ]
        }
      ],
      "source": [
        "\n",
        "\n",
        "def main():\n",
        "    anton = 21\n",
        "    beth = anton + 6\n",
        "    chen =  beth+ 20\n",
        "    drew = chen + anton\n",
        "    ethan = chen\n",
        "\n",
        "    print( \"Anton is \" + str(anton) + \" years old.\")\n",
        "    print( \"Beth is \" + str(beth) + \" years old.\")\n",
        "    print (\"Chen is \" + str(chen)+ \"years old.\")\n",
        "    print (\"Drew is \" + str(drew)+ \" years old.\")\n",
        "    print (\"Ethan is \" + str(ethan)+ \" years old.\")\n",
        "\n",
        "if __name__ == \"__main__\":\n",
        " main()"
      ]
    }
  ]
}