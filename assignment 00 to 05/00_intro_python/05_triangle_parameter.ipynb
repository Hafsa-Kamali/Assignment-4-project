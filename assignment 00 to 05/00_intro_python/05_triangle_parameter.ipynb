{
  "nbformat": 4,
  "nbformat_minor": 0,
  "metadata": {
    "colab": {
      "provenance": []
    },
    "kernelspec": {
      "name": "python3",
      "display_name": "Python 3"
    },
    "language_info": {
      "name": "python"
    }
  },
  "cells": [
    {
      "cell_type": "markdown",
      "source": [
        "#**Problem Statement**\n",
        "\n",
        "Prompt the user to enter the lengths of each side of a triangle and then calculate and print the perimeter of the triangle (the sum of all of the side lengths).\n",
        "\n",
        "Here's a sample run of the program (user input is in bold italics):\n",
        "\n",
        "What is the length of side 1? 3\n",
        "\n",
        "What is the length of side 2? 4\n",
        "\n",
        "What is the length of side 3? 5.5\n",
        "\n",
        "The perimeter of the triangle is 12.5"
      ],
      "metadata": {
        "id": "07WAnKErQ1bf"
      }
    },
    {
      "cell_type": "code",
      "execution_count": null,
      "metadata": {
        "colab": {
          "base_uri": "https://localhost:8080/"
        },
        "id": "VlUIjY4BQn5a",
        "outputId": "66af3f3a-975d-404d-a31c-4db9c7d0e60a"
      },
      "outputs": [
        {
          "output_type": "stream",
          "name": "stdout",
          "text": [
            "What is the 1st side of the triangle? 6\n",
            "What is the 2nd side of the triangle? 8\n",
            "What is the 3rd side of the triangle? 4\n",
            "The perimeter of the triangle is 18.0\n"
          ]
        }
      ],
      "source": [
        "\n",
        "\n",
        "def main():\n",
        "    side1 = float(int(input(\"What is the 1st side of the triangle? \")))\n",
        "    side2 = float(int(input(\"What is the 2nd side of the triangle? \")))\n",
        "    side3 = float(int(input(\"What is the 3rd side of the triangle? \")))\n",
        "\n",
        "    print(\"The perimeter of the triangle is \" + str(side1 + side2 + side3))\n",
        "\n",
        "if __name__ == \"__main__\":\n",
        "    main()"
      ]
    }
  ]
}