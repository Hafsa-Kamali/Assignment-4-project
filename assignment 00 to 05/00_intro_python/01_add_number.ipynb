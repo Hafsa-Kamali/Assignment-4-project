{
  "nbformat": 4,
  "nbformat_minor": 0,
  "metadata": {
    "colab": {
      "provenance": [],
      "toc_visible": true
    },
    "kernelspec": {
      "name": "python3",
      "display_name": "Python 3"
    },
    "language_info": {
      "name": "python"
    }
  },
  "cells": [
    {
      "cell_type": "markdown",
      "source": [
        "\n",
        "#**Problem Statement**\n",
        "\n",
        "Write a Python program that takes two integer inputs from the user and calculates their sum. The program should perform the following tasks:\n",
        "\n",
        "    Prompt the user to enter the first number.\n",
        "\n",
        "    Read the input and convert it to an integer.\n",
        "\n",
        "    Prompt the user to enter the second number.\n",
        "\n",
        "    Read the input and convert it to an integer.\n",
        "\n",
        "    Calculate the sum of the two numbers.\n",
        "\n",
        "    Print the total sum with an appropriate message.\n",
        "\n",
        "The provided solution demonstrates a working implementation of this problem, where the main() function guides the user through the process of entering two numbers and displays their sum.\n"
      ],
      "metadata": {
        "id": "FJupnHMtyQID"
      }
    },
    {
      "cell_type": "code",
      "execution_count": 1,
      "metadata": {
        "colab": {
          "base_uri": "https://localhost:8080/"
        },
        "id": "-l3MWYrKyOSw",
        "outputId": "5f40f2ee-9d47-426e-a2c8-43010ac4e798"
      },
      "outputs": [
        {
          "output_type": "stream",
          "name": "stdout",
          "text": [
            "Welcome to the Sum Calculator!\n",
            "Enter your first number: 65\n",
            "Enter your second number: 87\n",
            "the sum of 65 and 87 is 152\n"
          ]
        }
      ],
      "source": [
        "def main():\n",
        "  print(\"Welcome to the Sum Calculator!\")\n",
        "  num1=int(input(\"Enter your first number: \"))\n",
        "  num2=int(input(\"Enter your second number: \"))\n",
        "\n",
        "  total=num1+num2 #calculate the sum\n",
        "\n",
        "  print(f\"the sum of {num1} and {num2} is {total}\")\n",
        "\n",
        "if __name__ == \"__main__\":\n",
        "  main()"
      ]
    },
}
