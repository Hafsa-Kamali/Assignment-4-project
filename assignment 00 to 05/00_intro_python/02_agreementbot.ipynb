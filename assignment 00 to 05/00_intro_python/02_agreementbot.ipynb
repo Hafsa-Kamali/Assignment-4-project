{
  "nbformat": 4,
  "nbformat_minor": 0,
  "metadata": {
    "colab": {
      "provenance": []
    },
    "kernelspec": {
      "name": "python3",
      "display_name": "Python 3"
    },
    "language_info": {
      "name": "python"
    }
  },
  "cells": [
    {
      "cell_type": "markdown",
      "source": [
        "#**Problem Statement**\n",
        "\n",
        "Write a program which asks the user what their favorite animal is, and then always responds with \"My favorite animal is also ___!\" *(the blank should be filled in with the user-inputted animal, of course).*\n",
        "\n",
        "Here's a sample run of the program *(user input is in bold italics - note the space between the prompt and the user input!)*:\n",
        "\n",
        "###What's your favorite animal? cow\n",
        "\n",
        "### My favorite animal is also cow!"
      ],
      "metadata": {
        "id": "OfISMBZgt1w_"
      }
    },
    {
      "cell_type": "code",
      "execution_count": null,
      "metadata": {
        "id": "utdAiildtutJ",
        "outputId": "b5c1265d-98b6-41f5-eb1d-229021cbd7a7",
        "colab": {
          "base_uri": "https://localhost:8080/"
        }
      },
      "outputs": [
        {
          "output_type": "stream",
          "name": "stdout",
          "text": [
            "What's your favorite animal?cat\n",
            "My favorite animal is also cat!\n"
          ]
        }
      ],
      "source": [
        "\n",
        "def main():\n",
        "    animal=input(\"What's your favorite animal?\" )\n",
        "    print(\"My favorite animal is also\"+ \" \" + animal + \"!\")\n",
        "\n",
        "if __name__ == \"__main__\":\n",
        "    main()"
      ]
    }
  ]
}