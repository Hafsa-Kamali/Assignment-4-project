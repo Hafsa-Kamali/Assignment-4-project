{
  "nbformat": 4,
  "nbformat_minor": 0,
  "metadata": {
    "colab": {
      "provenance": []
    },
    "kernelspec": {
      "name": "python3",
      "display_name": "Python 3"
    },
    "language_info": {
      "name": "python"
    }
  },
  "cells": [
    {
      "cell_type": "markdown",
      "source": [
        "#**Problem Statement**\n",
        "Sophia has a fruit store. She has written a function num_in_stock which takes a string fruit as a parameter and returns how many of that fruit are in her inventory. Write code in main() which will:\n",
        "\n",
        "Prompt the user to enter a fruit (\"Enter a fruit: \")\n",
        "\n",
        "Call num_in_stock(fruit) to get the number of that fruit that Sophia has in stock\n",
        "\n",
        "Print the number which are in stock if Sophia has that fruit in her inventory (there are more than 0 in stock)\n",
        "\n",
        "Print \"This fruit is not in stock.\" if Sophia has none of that fruit in her inventory.\n",
        "\n",
        "Here's two sample runs of the program (user input in bold italics):\n",
        "\n",
        "Enter a fruit: pear\n",
        "\n",
        "This fruit is in stock! Here is how many:\n",
        "\n",
        "1000\n",
        "\n",
        "Enter a fruit: lychee\n",
        "\n",
        "This fruit is not in stock."
      ],
      "metadata": {
        "id": "74ewueWc4OMG"
      }
    },
    {
      "cell_type": "code",
      "source": [
        "def main():\n",
        "\tfruit : str = input(\"Enter a fruit: \")\n",
        "\tstock = num_in_stock(fruit)\n",
        "\tif stock == 0:\n",
        "\t\tprint(\"This fruit is not in stock.\")\n",
        "\telse:\n",
        "\t\tprint(\"This fruit is in stock! Here is how many:\")\n",
        "\t\tprint(stock)\n",
        "\n",
        "# There is no need to edit code beyond this point\n",
        "\n",
        "def num_in_stock(fruit):\n",
        "\t\"\"\"\n",
        "\tThis function returns the number of fruit Sophia has in stock.\n",
        "\t\"\"\"\n",
        "\tif fruit == 'apple':\n",
        "\t\treturn 2\n",
        "\tif fruit == 'durian':\n",
        "\t\treturn 4\n",
        "\tif fruit == 'pear':\n",
        "\t\treturn 1000\n",
        "\telse:\n",
        "\t\t# this fruit is not in stock.\n",
        "\t\treturn 0\n",
        "\n",
        "\n",
        "if __name__ == '__main__':\n",
        "    main()"
      ],
      "metadata": {
        "colab": {
          "base_uri": "https://localhost:8080/"
        },
        "id": "BqTE5RJq9FsD",
        "outputId": "77a56018-3f98-476e-a2b6-35510abc1b1a"
      },
      "execution_count": 17,
      "outputs": [
        {
          "output_type": "stream",
          "name": "stdout",
          "text": [
            "Enter a fruit: pear\n",
            "This fruit is in stock! Here is how many:\n",
            "1000\n"
          ]
        }
      ]
    }
  ]
}