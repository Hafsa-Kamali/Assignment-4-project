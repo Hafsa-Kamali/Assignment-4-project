{
  "nbformat": 4,
  "nbformat_minor": 0,
  "metadata": {
    "colab": {
      "provenance": []
    },
    "kernelspec": {
      "name": "python3",
      "display_name": "Python 3"
    },
    "language_info": {
      "name": "python"
    }
  },
  "cells": [
    {
      "cell_type": "markdown",
      "source": [
        "#**Problem Statement**\n",
        "Implement the following function which takes in 3 integers as parameters:\n",
        "\n",
        "def in_range(n, low, high) \"\"\" Returns True if n is between low and high, inclusive. high is guaranteed to be greater than low. \"\"\""
      ],
      "metadata": {
        "id": "74ewueWc4OMG"
      }
    },
    {
      "cell_type": "code",
      "source": [
        "def in_range(n, low, high):\n",
        "    \"\"\"Returns True if n is between low and high, inclusive.\"\"\"\n",
        "    return low <= n <= high\n",
        "\n",
        "def main():\n",
        "    # Get user input\n",
        "    n = int(input(\"Enter a number (n): \"))\n",
        "    low = int(input(\"Enter the lower bound (low): \"))\n",
        "    high = int(input(\"Enter the upper bound (high): \"))\n",
        "\n",
        "    # Check if high > low (as guaranteed, but adding validation for robustness)\n",
        "    if high <= low:\n",
        "        print(\"Error: 'high' must be greater than 'low'.\")\n",
        "        return\n",
        "\n",
        "    # Call in_range and print the result\n",
        "    if in_range(n, low, high):\n",
        "        print(f\"{n} is between {low} and {high}, inclusive.\")\n",
        "    else:\n",
        "        print(f\"{n} is NOT between {low} and {high}, inclusive.\")\n",
        "\n",
        "if __name__ == \"__main__\":\n",
        "    main()"
      ],
      "metadata": {
        "colab": {
          "base_uri": "https://localhost:8080/"
        },
        "id": "BqTE5RJq9FsD",
        "outputId": "f1536fe9-5a76-4d51-cb9b-8dd410ac76eb"
      },
      "execution_count": 15,
      "outputs": [
        {
          "output_type": "stream",
          "name": "stdout",
          "text": [
            "Enter a number (n): 5\n",
            "Enter the lower bound (low): 1\n",
            "Enter the upper bound (high): 10\n",
            "5 is between 1 and 10, inclusive.\n"
          ]
        }
      ]
    }
  ]
}