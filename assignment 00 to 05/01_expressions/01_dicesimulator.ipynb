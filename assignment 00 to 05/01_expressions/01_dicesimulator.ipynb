{
  "nbformat": 4,
  "nbformat_minor": 0,
  "metadata": {
    "colab": {
      "provenance": []
    },
    "kernelspec": {
      "name": "python3",
      "display_name": "Python 3"
    },
    "language_info": {
      "name": "python"
    }
  },
  "cells": [
    {
      "cell_type": "markdown",
      "source": [
        "#**Problem Statement**\n",
        "Simulate rolling two dice, three times.\n",
        "Prints the results of each die roll.\n",
        "This program is used to show how variable scope works."
      ],
      "metadata": {
        "id": "o4o3ALv4JMK4"
      }
    },
    {
      "cell_type": "code",
      "execution_count": 1,
      "metadata": {
        "colab": {
          "base_uri": "https://localhost:8080/"
        },
        "id": "_B6E1EYLGdLk",
        "outputId": "7f1bdd48-833c-4215-9053-8e8e70593a4e"
      },
      "outputs": [
        {
          "output_type": "stream",
          "name": "stdout",
          "text": [
            "die1 in main() starts as: 10\n",
            "Total of two dice: 10\n",
            "Total of two dice: 7\n",
            "Total of two dice: 6\n",
            "die1 in main() is: 10\n"
          ]
        }
      ],
      "source": [
        "\"\"\"\n",
        "Program: dicesimulator\n",
        "----------------------\n",
        "Simulate rolling two dice, three times.  Prints\n",
        "the results of each die roll.  This program is used\n",
        "to show how variable scope works.\n",
        "\"\"\"\n",
        "\n",
        "# Import the random library which lets us simulate random things like dice!\n",
        "import random\n",
        "\n",
        "# Number of sides on each die to roll\n",
        "NUM_SIDES = 6\n",
        "\n",
        "def roll_dice():\n",
        "    \"\"\"\n",
        "    Simulates rolling two dice and prints their total\n",
        "    \"\"\"\n",
        "    die1: int = random.randint(1, NUM_SIDES)\n",
        "    die2: int = random.randint(1, NUM_SIDES)\n",
        "    total: int = die1 + die2\n",
        "    print(\"Total of two dice:\", total)\n",
        "\n",
        "def main():\n",
        "    die1: int = 10\n",
        "    print(\"die1 in main() starts as: \" + str(die1))\n",
        "    roll_dice()\n",
        "    roll_dice()\n",
        "    roll_dice()\n",
        "    print(\"die1 in main() is: \" + str(die1))\n",
        "\n",
        "# This provided line is required at the end of a Python file\n",
        "# to call the main() function.\n",
        "if __name__ == '__main__':\n",
        "    main()"
      ]
    }
  ]
}