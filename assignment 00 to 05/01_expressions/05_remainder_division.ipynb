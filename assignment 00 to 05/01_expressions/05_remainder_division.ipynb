{
  "nbformat": 4,
  "nbformat_minor": 0,
  "metadata": {
    "colab": {
      "provenance": []
    },
    "kernelspec": {
      "name": "python3",
      "display_name": "Python 3"
    },
    "language_info": {
      "name": "python"
    }
  },
  "cells": [
    {
      "cell_type": "markdown",
      "source": [
        "#**Problem Statement**\n",
        "Ask the user for two numbers, one at a time, and then print the result of dividing the first number by the second and also the remainder of the division.\n",
        "\n",
        "Here's a sample run of the program (user input is in bold italics):\n",
        "\n",
        "Please enter an integer to be divided: 5\n",
        "\n",
        "Please enter an integer to divide by: 3\n",
        "\n",
        "The result of this division is 1 with a remainder of 2"
      ],
      "metadata": {
        "id": "Y41XGQN3SBU0"
      }
    },
    {
      "cell_type": "code",
      "execution_count": 2,
      "metadata": {
        "colab": {
          "base_uri": "https://localhost:8080/"
        },
        "id": "ETnmhkg3RhgH",
        "outputId": "63901767-72b1-49cd-fdf9-62cf1b150db6"
      },
      "outputs": [
        {
          "output_type": "stream",
          "name": "stdout",
          "text": [
            "Please enter an integer to be divided: 42\n",
            "Please enter an integer to divide by: 24\n",
            "The result of this division is 1 with a remainder of 18\n"
          ]
        }
      ],
      "source": [
        "def main():\n",
        "    # Get the numbers we want to divide\n",
        "    dividend: int = int(input(\"Please enter an integer to be divided: \"))\n",
        "    divisor: int = int(input(\"Please enter an integer to divide by: \"))\n",
        "\n",
        "    quotient: int = dividend // divisor  # Divide with no remainder/decimals (integer division)\n",
        "    remainder: int = dividend % divisor  # Get the remainder of the division (modulus)\n",
        "\n",
        "    print(\"The result of this division is \" + str(quotient) + \" with a remainder of \" + str(remainder))\n",
        "\n",
        "\n",
        "if __name__ == '__main__':\n",
        "    main()"
      ]
    }
  ]
}