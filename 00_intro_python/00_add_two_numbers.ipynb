{
  "nbformat": 4,
  "nbformat_minor": 0,
  "metadata": {
    "colab": {
      "provenance": [],
      "authorship_tag": "ABX9TyMm5WN3GW2qZbC/hgCcdoGW",
      "include_colab_link": true
    },
    "kernelspec": {
      "name": "python3",
      "display_name": "Python 3"
    },
    "language_info": {
      "name": "python"
    }
  },
  "cells": [
    {
      "cell_type": "markdown",
      "metadata": {
        "id": "view-in-github",
        "colab_type": "text"
      },
      "source": [
        "<a href=\"https://colab.research.google.com/github/Hafsa-Kamali/Assignment-4-project/blob/main/00_intro_python/00_add_two_numbers.ipynb\" target=\"_parent\"><img src=\"https://colab.research.google.com/assets/colab-badge.svg\" alt=\"Open In Colab\"/></a>"
      ]
    },
    {
      "cell_type": "markdown",
      "source": [
        "#**Problem Statement**\n",
        "\n",
        "Write a Python program that takes two integer inputs from the user and calculates their sum. The program should perform the following tasks:\n",
        "\n",
        "    Prompt the user to enter the first number.\n",
        "\n",
        "    Read the input and convert it to an integer.\n",
        "\n",
        "    Prompt the user to enter the second number.\n",
        "\n",
        "    Read the input and convert it to an integer.\n",
        "\n",
        "    Calculate the sum of the two numbers.\n",
        "\n",
        "    Print the total sum with an appropriate message.\n",
        "\n",
        "The provided solution demonstrates a working implementation of this problem, where the main() function guides the user through the process of entering two numbers and displays their sum.\n"
      ],
      "metadata": {
        "id": "UbJX_uSD0JQS"
      }
    },
    {
      "cell_type": "code",
      "execution_count": null,
      "metadata": {
        "id": "-hhKc0rmtxVa"
      },
      "outputs": [],
      "source": [
        "!git clone\n",
        "def main():\n",
        "  print(\"Welcome to the Sum Calculator!\")\n",
        "  num1=int(input(\"Enter your first number: \"))\n",
        "  num2=int(input(\"Enter your second number: \"))\n",
        "\n",
        "  total=num1+num2 #calculate the sum\n",
        "\n",
        "  print(f\"the sum of {num1} and {num2} is {total}\")\n",
        "\n",
        "if __name__ == \"__main__\":\n",
        "  main()"
      ]
    }
  ]
}